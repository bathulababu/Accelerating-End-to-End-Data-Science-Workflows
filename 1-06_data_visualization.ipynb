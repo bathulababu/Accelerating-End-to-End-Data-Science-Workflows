{
 "cells": [
  {
   "cell_type": "markdown",
   "id": "b53a7b12-538d-4459-b82a-a35c8c417849",
   "metadata": {},
   "source": [
    "<img src=\"images/nvidia_header.png\" style=\"margin-left: -30px; width: 300px; float: left;\">"
   ]
  },
  {
   "cell_type": "markdown",
   "id": "ae497b71-bc43-471e-8970-88a1878e7cf9",
   "metadata": {},
   "source": [
    "# Accelerating End-to-End Data Science Workflows # "
   ]
  },
  {
   "cell_type": "markdown",
   "id": "a149b6d1-1880-4a5d-9d71-f963d3097aa4",
   "metadata": {},
   "source": [
    "## 06 - Data Visualization ##\n",
    "\n",
    "**Table of Contents**\n",
    "<br>\n",
    "This notebook demonstrates the basics of data visualization for large datasets. This notebook covers the below sections: \n",
    "1. [Data Visualization](#Data-Visualization)\n",
    "2. [Bar Chart](#Bar-Chart)\n",
    "    * [Histogram](#Histogram)\n",
    "    * [Exercise #1 - Bar Chart](#Exercise-#1---Bar-Chart)\n",
    "3. [Scatter Plot](#Scatter-Plot)\n",
    "4. [Line Chart](#Line-Chart)\n",
    "5. [Datashader](#Datashader)\n",
    "    * [Datashader Accelerated by GPU](#Datashader-Accelerated-by-GPU)\n",
    "6. [Interactive Visualization](#Interactive-Visualization)\n",
    "    * [cuxfilter and Dashboard](#cuxfilter-and-Dashboard)\n",
    "6. [Other Libraries](#Other-Libraries)"
   ]
  },
  {
   "cell_type": "markdown",
   "id": "39f0f08f-92a2-4bfc-b8bc-5904aa70b5fc",
   "metadata": {},
   "source": [
    "## Data Visualization ##\n",
    "Data visualization is an important part of data science for several reasons: \n",
    "* **Data exploration**: enables data scientists to explore data and quickly identify patterns, trends, and outliers that may not be apparent when looking at raw data in tabular format\n",
    "* **Interpretation**: transforms large and complex datasets into more digestible visual formats, making it easier to comprehend vast amounts of information\n",
    "* **Communication**: helps data scientists communicate complex insights to stakeholders in an easy-to-understand visual format, making data more accessible to non-technical audiences\n",
    "\n",
    "Below is the simple dashboard we will create in this notebook: \n",
    "\n",
    "<p><img src='images/dashboard_1_sample.png' width=720></p>"
   ]
  },
  {
   "cell_type": "code",
   "execution_count": 2,
   "id": "3300e580-f39d-4147-8ad8-dfbf611ad323",
   "metadata": {
    "scrolled": true
   },
   "outputs": [
    {
     "name": "stdout",
     "output_type": "stream",
     "text": [
      "The cudf.pandas extension is already loaded. To reload it, use:\n",
      "  %reload_ext cudf.pandas\n"
     ]
    },
    {
     "data": {
      "text/html": [
       "<div>\n",
       "<style scoped>\n",
       "    .dataframe tbody tr th:only-of-type {\n",
       "        vertical-align: middle;\n",
       "    }\n",
       "\n",
       "    .dataframe tbody tr th {\n",
       "        vertical-align: top;\n",
       "    }\n",
       "\n",
       "    .dataframe thead th {\n",
       "        text-align: right;\n",
       "    }\n",
       "</style>\n",
       "<table border=\"1\" class=\"dataframe\">\n",
       "  <thead>\n",
       "    <tr style=\"text-align: right;\">\n",
       "      <th></th>\n",
       "      <th>age</th>\n",
       "      <th>sex</th>\n",
       "      <th>county</th>\n",
       "      <th>lat</th>\n",
       "      <th>long</th>\n",
       "      <th>name</th>\n",
       "    </tr>\n",
       "  </thead>\n",
       "  <tbody>\n",
       "    <tr>\n",
       "      <th>0</th>\n",
       "      <td>0</td>\n",
       "      <td>m</td>\n",
       "      <td>DARLINGTON</td>\n",
       "      <td>54.533638</td>\n",
       "      <td>-1.524400</td>\n",
       "      <td>FRANCIS</td>\n",
       "    </tr>\n",
       "    <tr>\n",
       "      <th>1</th>\n",
       "      <td>0</td>\n",
       "      <td>m</td>\n",
       "      <td>DARLINGTON</td>\n",
       "      <td>54.426254</td>\n",
       "      <td>-1.465314</td>\n",
       "      <td>EDWARD</td>\n",
       "    </tr>\n",
       "    <tr>\n",
       "      <th>2</th>\n",
       "      <td>0</td>\n",
       "      <td>m</td>\n",
       "      <td>DARLINGTON</td>\n",
       "      <td>54.555199</td>\n",
       "      <td>-1.496417</td>\n",
       "      <td>TEDDY</td>\n",
       "    </tr>\n",
       "    <tr>\n",
       "      <th>3</th>\n",
       "      <td>0</td>\n",
       "      <td>m</td>\n",
       "      <td>DARLINGTON</td>\n",
       "      <td>54.547909</td>\n",
       "      <td>-1.572342</td>\n",
       "      <td>ANGUS</td>\n",
       "    </tr>\n",
       "    <tr>\n",
       "      <th>4</th>\n",
       "      <td>0</td>\n",
       "      <td>m</td>\n",
       "      <td>DARLINGTON</td>\n",
       "      <td>54.477638</td>\n",
       "      <td>-1.605995</td>\n",
       "      <td>CHARLIE</td>\n",
       "    </tr>\n",
       "  </tbody>\n",
       "</table>\n",
       "</div>"
      ],
      "text/plain": [
       "   age sex      county        lat      long     name\n",
       "0    0   m  DARLINGTON  54.533638 -1.524400  FRANCIS\n",
       "1    0   m  DARLINGTON  54.426254 -1.465314   EDWARD\n",
       "2    0   m  DARLINGTON  54.555199 -1.496417    TEDDY\n",
       "3    0   m  DARLINGTON  54.547909 -1.572342    ANGUS\n",
       "4    0   m  DARLINGTON  54.477638 -1.605995  CHARLIE"
      ]
     },
     "execution_count": 2,
     "metadata": {},
     "output_type": "execute_result"
    }
   ],
   "source": [
    "%load_ext cudf.pandas\n",
    "# DO NOT CHANGE THIS CELL\n",
    "import pandas as pd\n",
    "\n",
    "dtype_dict={\n",
    "    'age': 'int8', \n",
    "    'sex': 'object', \n",
    "    'county': 'object', \n",
    "    'lat': 'float32', \n",
    "    'long': 'float32', \n",
    "    'name': 'object'\n",
    "}\n",
    "        \n",
    "df=pd.read_csv('./data/uk_pop.csv', dtype=dtype_dict)\n",
    "df.head()"
   ]
  },
  {
   "cell_type": "markdown",
   "id": "db58461b-5877-4768-8586-a46765381b6b",
   "metadata": {},
   "source": [
    "## Bar Chart ##\n",
    "Bar charts are used to show and compare categorical data. It represent numercial values with rectangular bars where the length or height of each bar corresponds to the value it represents. \n",
    "\n",
    "Below we show the top 5 counties with the most people. "
   ]
  },
  {
   "cell_type": "code",
   "execution_count": 3,
   "id": "a0acbf39-b10c-4998-96d7-dde142d844e1",
   "metadata": {},
   "outputs": [
    {
     "data": {
      "text/plain": [
       "<Axes: xlabel='county'>"
      ]
     },
     "execution_count": 3,
     "metadata": {},
     "output_type": "execute_result"
    },
    {
     "data": {
      "image/png": "[encoded data removed]",
      "text/plain": [
       "<Figure size 640x480 with 1 Axes>"
      ]
     },
     "metadata": {},
     "output_type": "display_data"
    }
   ],
   "source": [
    "# DO NOT CHANGE THIS CELL\n",
    "df.groupby('county').size().sort_values(ascending=False).head().plot(kind='bar')"
   ]
  },
  {
   "cell_type": "markdown",
   "id": "8b6d94bc-7006-4e73-accb-2649d7dec596",
   "metadata": {},
   "source": [
    "### Histogram ###\n",
    "Bar charts can also be used to show the distribution of data points across different subgroups. This is referred to as a historgram, which is done by counting the number of occurrences (frequency distribution) of each unique value in a dataset. It is used to visualize the shape, center, and spread of a dataset. "
   ]
  },
  {
   "cell_type": "code",
   "execution_count": 4,
   "id": "b804a51e-63b7-4389-8dd5-3beea5a5950b",
   "metadata": {},
   "outputs": [
    {
     "data": {
      "text/plain": [
       "<Axes: xlabel='age_bucket'>"
      ]
     },
     "execution_count": 4,
     "metadata": {},
     "output_type": "execute_result"
    },
    {
     "data": {
      "image/png": "[encoded data removed]",
      "text/plain": [
       "<Figure size 640x480 with 1 Axes>"
      ]
     },
     "metadata": {},
     "output_type": "display_data"
    }
   ],
   "source": [
    "# DO NOT CHANGE THIS CELL\n",
    "bins=[0, 10, 20, 30, 40, 50, 60, 70, 80, 90, 100]\n",
    "df['age_bucket']=pd.cut(df['age'], bins=bins, right=True, include_lowest=True, labels=False)\n",
    "df.groupby('age_bucket').size().plot(kind='bar')"
   ]
  },
  {
   "cell_type": "markdown",
   "id": "88341062-8ecc-4264-8c42-bee7ae173c05",
   "metadata": {},
   "source": [
    "### Exercise #1 - Bar Chart ###\n",
    "We would like to find the distribution of sex in the population. \n",
    "\n",
    "**Instructions**: <br>\n",
    "* Modify the `<FIXME>` only and execute the below cell plot the number of each sex in our dataset. "
   ]
  },
  {
   "cell_type": "code",
   "execution_count": 5,
   "id": "c2419219-4afc-4bd6-81eb-db5597d665fa",
   "metadata": {},
   "outputs": [
    {
     "data": {
      "text/plain": [
       "<Axes: xlabel='sex'>"
      ]
     },
     "execution_count": 5,
     "metadata": {},
     "output_type": "execute_result"
    },
    {
     "data": {
      "image/png": "[encoded data removed]",
      "text/plain": [
       "<Figure size 640x480 with 1 Axes>"
      ]
     },
     "metadata": {},
     "output_type": "display_data"
    }
   ],
   "source": [
    "df.groupby('sex').size().plot(kind='bar')"
   ]
  },
  {
   "cell_type": "raw",
   "id": "c11607d9-1079-43ab-b151-b710a9c4666d",
   "metadata": {},
   "source": [
    "\n",
    "df.groupby('sex').size().plot(kind='bar')"
   ]
  },
  {
   "cell_type": "markdown",
   "id": "5e49a376-90f6-4ae1-9a47-fae469a5d1da",
   "metadata": {},
   "source": [
    "Click ... for solution. "
   ]
  },
  {
   "cell_type": "markdown",
   "id": "676bd687-b998-4724-bda5-e1d68307bb24",
   "metadata": {},
   "source": [
    "## Scatter Plot ##\n",
    "The scatter plot is used to show the relationship between two variables in a dataset. It can also be used to display coordinates of each data point to help identify outliers or clusters. "
   ]
  },
  {
   "cell_type": "code",
   "execution_count": 6,
   "id": "e170e8ba-5dbf-428d-b00a-0880d8bdcfad",
   "metadata": {},
   "outputs": [
    {
     "data": {
      "text/plain": [
       "<Axes: xlabel='lat', ylabel='long'>"
      ]
     },
     "execution_count": 6,
     "metadata": {},
     "output_type": "execute_result"
    },
    {
     "data": {
      "image/png": "[encoded data removed]",
      "text/plain": [
       "<Figure size 640x480 with 1 Axes>"
      ]
     },
     "metadata": {},
     "output_type": "display_data"
    }
   ],
   "source": [
    "# DO NOT CHANGE THIS CELL\n",
    "# sample a very small percentage of the data\n",
    "small_df=df.sample(1000)\n",
    "\n",
    "small_df.plot(kind='scatter', x='lat', y='long')"
   ]
  },
  {
   "cell_type": "markdown",
   "id": "8e0dbf2c-9bbf-4621-bce6-661ede296af9",
   "metadata": {},
   "source": [
    "## Line Chart ##\n",
    "Line charts are good for connecting individual data points to show trends. It's useful for visualizing changes, trends, and patterns over time. \n",
    "\n",
    "The scatter plot doesn't scale well with the number of data points. When the data becomes large, the scatter plot take a long time to complete. Below is line chart of the compute time for different data sizes. \n",
    "\n",
    "<p><img src='images/scatter_time.png', width=480></p>\n",
    "\n",
    "**Note**: Below is the code used to produce this image. "
   ]
  },
  {
   "cell_type": "code",
   "execution_count": null,
   "id": "ce18692d-b36f-4275-b056-fd1ec1170abc",
   "metadata": {},
   "outputs": [],
   "source": [
    "# import time\n",
    "# import matplotlib.pyplot as plt\n",
    "\n",
    "# fig, ax=plt.subplots()\n",
    "# exec_times={}\n",
    "\n",
    "# for size in (5*(10**i) for i in range(1, 8)): \n",
    "#     start=time.time()\n",
    "#     df.sample(size).plot(kind='scatter', x='long', y='lat', ax=ax)\n",
    "#     duration=time.time()-start\n",
    "#     exec_times[size]=duration\n",
    "#     ax.clear()\n",
    "\n",
    "# ax.plot(exec_times.keys(), exec_times.values(), marker='o')\n",
    "# ax.set_xscale('log')\n",
    "# ax.set_xlabel('Data Size')\n",
    "# ax.set_ylabel('Execution Time')\n",
    "# ax.set_title(\"Scatter Plot Doesn't Scale Well With Data Size\")"
   ]
  },
  {
   "cell_type": "code",
   "execution_count": 7,
   "id": "44e65ae7-f223-455f-a463-10f1e193ef64",
   "metadata": {},
   "outputs": [
    {
     "data": {
      "text/plain": [
       "{'status': 'ok', 'restart': True}"
      ]
     },
     "execution_count": 7,
     "metadata": {},
     "output_type": "execute_result"
    }
   ],
   "source": [
    "# DO NOT CHANGE THIS CELL\n",
    "import IPython\n",
    "app = IPython.Application.instance()\n",
    "app.kernel.do_shutdown(True)"
   ]
  },
  {
   "cell_type": "markdown",
   "id": "b26686d7-fb05-49a0-9006-036810d86160",
   "metadata": {},
   "source": [
    "## Datashader ##\n",
    "[Datashader](https://datashader.org/#) is an open-source Python library for analyzing and visualizing large datasets. Specifically, Datashader is designed to \"rasterize\" or \"aggregate\" datasets into regular grids that can be analyzed further or viewed as images, making it simple and quick to see the properties and patterns of data. \n",
    "\n",
    "Plotting for big data is challenging because rendering a large number of points takes a long time. Datashader shifts the burden of visualization from rendering to computing. Underneath the hood, it turns a long list of (x, y) points into a 2D histogram instead of plotting each point individually. Furthermore, this aggregation can be accelerated through parallel computing. The resulting gridded data structure is then turn into an image, using color to show the magnitude, before being embedding into a plotting program. \n",
    "\n",
    "Datashader generates a plot using a five-step [pipeline](https://datashader.org/getting_started/Pipeline.html): \n",
    "\n",
    "<p><img src='images/ds_pipeline.png' width=720></p>\n",
    "\n",
    "Below we demonstrate how Datashader is used. "
   ]
  },
  {
   "cell_type": "code",
   "execution_count": 1,
   "id": "a7bd466f-0e40-4b40-bd50-82c9fdc17e2f",
   "metadata": {},
   "outputs": [],
   "source": [
    "# DO NOT CHANGE THIS CELL\n",
    "import time\n",
    "import matplotlib.pyplot as plt\n",
    "\n",
    "import datashader as ds\n",
    "import datashader.transfer_functions as tf"
   ]
  },
  {
   "cell_type": "code",
   "execution_count": null,
   "id": "813eb18b-5234-4a1f-ae05-58bcf8750e9f",
   "metadata": {
    "scrolled": true
   },
   "outputs": [],
   "source": [
    "# DO NOT CHANGE THIS CELL\n",
    "import pandas as pd\n",
    "\n",
    "dtype_dict={\n",
    "    'age': 'int8', \n",
    "    'sex': 'object', \n",
    "    'county': 'object', \n",
    "    'lat': 'float32', \n",
    "    'long': 'float32', \n",
    "    'name': 'object'\n",
    "}\n",
    "        \n",
    "df=pd.read_csv('./data/uk_pop.csv', dtype=dtype_dict)\n",
    "df.head()"
   ]
  },
  {
   "cell_type": "code",
   "execution_count": null,
   "id": "5f0085a4-97fa-494f-a525-792f2b65593e",
   "metadata": {},
   "outputs": [],
   "source": [
    "# DO NOT CHANGE THIS CELL\n",
    "start=time.time()\n",
    "\n",
    "# get points\n",
    "ds_points_pandas=ds.Canvas().points(df,'long','lat')\n",
    "display(ds_points_pandas)\n",
    "\n",
    "# plot points\n",
    "plt.imshow(tf.shade(ds_points_pandas))\n",
    "\n",
    "print(f'Duration: {round(time.time()-start, 2)} seconds')"
   ]
  },
  {
   "cell_type": "markdown",
   "id": "09268b18-7e81-46e7-978b-964fe56cda2e",
   "metadata": {},
   "source": [
    "### Datashader Accelerated by GPU ###\n",
    "Datashader can be accelerated by assigning the computation to a GPU. As previously mentioned, the GPU typically has far more (though individually less powerful) cores available than a CPU does, and for highly parallelizable computations like those in Datashader a GPU can typically achieve much faster performance at a given price point than a CPU or distributed set of CPUs can. The DataFrame from cuDF can be used as a replacement for rasterization. The performance benefits are significant since the entire data-processing pipeline is executed on the GPU and there is no bottleneck from data transfer. "
   ]
  },
  {
   "cell_type": "code",
   "execution_count": null,
   "id": "557e70e8-9eaf-4d6b-9048-8a1b433943bd",
   "metadata": {
    "scrolled": true
   },
   "outputs": [],
   "source": [
    "# DO NOT CHANGE THIS CELL\n",
    "import cudf\n",
    "\n",
    "dtype_dict={\n",
    "    'age': 'int8', \n",
    "    'sex': 'object', \n",
    "    'county': 'object', \n",
    "    'lat': 'float32', \n",
    "    'long': 'float32', \n",
    "    'name': 'object'\n",
    "}\n",
    "        \n",
    "gdf=cudf.read_csv('./data/uk_pop.csv', dtype=dtype_dict)\n",
    "gdf.head()"
   ]
  },
  {
   "cell_type": "code",
   "execution_count": null,
   "id": "6a5b3eb3-40f2-46fb-a45b-5450f45ff398",
   "metadata": {},
   "outputs": [],
   "source": [
    "# DO NOT CHANGE THIS CELL\n",
    "start=time.time()\n",
    "\n",
    "# get points\n",
    "ds_points_cudf=ds.Canvas().points(gdf,'long','lat')\n",
    "display(ds_points_cudf)\n",
    "\n",
    "# plot points\n",
    "plt.imshow(tf.shade(ds_points_cudf))\n",
    "\n",
    "print(f'Duration: {round(time.time()-start, 2)} seconds')"
   ]
  },
  {
   "cell_type": "markdown",
   "id": "98b1c4a7-9b60-4970-859f-b9ffedd4315c",
   "metadata": {},
   "source": [
    "**Note**: Please re-execute the above cell if it took more than a few seconds for the more accurate compute time. "
   ]
  },
  {
   "cell_type": "markdown",
   "id": "2e664fb6-7482-49d0-bc60-efaefd2184d3",
   "metadata": {},
   "source": [
    "## Interactive Visualization ##\n",
    "Data visualization is crucial in data science as it bridges the gap between complex data and human understanding, making insights more accessible, actionable, and impactful throughout the data science process. Bringing interactivity in data visualization further enables: \n",
    "* **Discovery**: enables discovery of hidden patterns, trends, and outliers that may not be apparant in static visualizations\n",
    "* **Enhanced understanding**: allows users to view data from multiple perspective and levels of detail\n",
    "* **Customization**: provides the ability to rapidly filter, sort, and aggregate data, leading to a more impactful presentation"
   ]
  },
  {
   "cell_type": "markdown",
   "id": "084911da-fb99-43e8-bff6-e11f032b4c9e",
   "metadata": {},
   "source": [
    "### cuxfilter and Dashboard ###\n",
    "cuxfilter enables GPU accelerated cross-filtering dashboards, which is ideal for multi-chart exploratory data analysis. Cross-filtering lets users interact with one chart and apply that interaction as a filter to other charts in the dashboard. \n",
    "\n",
    "cuxfilter acts as a connector library, which provides the connections between different visualization libraries and a GPU DataFrame without much hassle. This also allows users to use charts from different libraries in a single dashboard, while also providing the interaction. Currently, cuxfilter supports: \n",
    "* [Bokeh](https://bokeh.org/) Charts\n",
    "    * Bar chart\n",
    "    * Line chart\n",
    "    * Choropleth\n",
    "* [Datashader](https://datashader.org/) Charts\n",
    "    * Line\n",
    "    * Scatter\n",
    "* [Panel Widgets](https://panel.holoviz.org/api/panel.widgets.html)\n",
    "    * Range\n",
    "    * Float\n",
    "    * Int\n",
    "    * Dropdown\n",
    "    * Multiselect"
   ]
  },
  {
   "cell_type": "code",
   "execution_count": null,
   "id": "f1777e6a-a717-49d4-9b38-e855d987ca92",
   "metadata": {},
   "outputs": [],
   "source": [
    "import cuxfilter as cxf\n",
    "\n",
    "# factorize county for multiselect widget\n",
    "gdf['county'], county_names = gdf['county'].factorize()\n",
    "county_map = dict(zip(list(range(len(county_names))), county_names.to_arrow()))"
   ]
  },
  {
   "cell_type": "code",
   "execution_count": null,
   "id": "680c06ed-f8c6-4de5-b366-78f0c1092aeb",
   "metadata": {},
   "outputs": [],
   "source": [
    "# create cuxfilter DataFrame\n",
    "cxf_data = cxf.DataFrame.from_dataframe(gdf)\n",
    "\n",
    "# create Datashader scatter plot\n",
    "scatter_chart = cxf.charts.scatter(x='long', y='lat')"
   ]
  },
  {
   "cell_type": "code",
   "execution_count": null,
   "id": "c2d8a372-6e14-442c-a61d-f5ea44fc7f6c",
   "metadata": {},
   "outputs": [],
   "source": [
    "# create Bokeh bar charts\n",
    "chart_3=cxf.charts.bar('age')\n",
    "chart_2=cxf.charts.bar('sex')"
   ]
  },
  {
   "cell_type": "code",
   "execution_count": null,
   "id": "fb700802-45b8-4558-b58b-c2a96cfda78b",
   "metadata": {},
   "outputs": [],
   "source": [
    "# define layout\n",
    "layout_array=[[1, 2, 2], \n",
    "              [3, 2, 2]]"
   ]
  },
  {
   "cell_type": "code",
   "execution_count": null,
   "id": "a7964e08-1e77-4431-83b1-ef0e798d32f5",
   "metadata": {},
   "outputs": [],
   "source": [
    "# create multiselect widget\n",
    "county_widget = cxf.charts.panel_widgets.multi_select('county', label_map=county_map)\n",
    "\n",
    "# define layout\n",
    "dash = cxf_data.dashboard(charts=[chart_2, scatter_chart, chart_3],sidebar=[county_widget], theme=cxf.themes.dark, data_size_widget=True, layout_array=layout_array)\n",
    "\n",
    "dash.app()"
   ]
  },
  {
   "cell_type": "markdown",
   "id": "08b9ca80-2469-4f49-8781-1910bdce41bd",
   "metadata": {},
   "source": [
    "## Other Libraries ##\n",
    "* Plotly:\n",
    "    * https://dash.plotly.com/holoviews#gpu-accelerating-datashader-and-linked-selections-with-rapids\n",
    "    * https://developer.nvidia.com/blog/making-a-plotly-dash-census-viz-powered-by-rapids/"
   ]
  },
  {
   "cell_type": "code",
   "execution_count": null,
   "id": "e9d7f104-879d-4784-bf47-541fa4cda445",
   "metadata": {},
   "outputs": [],
   "source": [
    "import IPython\n",
    "app = IPython.Application.instance()\n",
    "app.kernel.do_shutdown(True)"
   ]
  },
  {
   "cell_type": "markdown",
   "id": "9dc3b5a1-051f-4e4c-b830-1dbf066eb622",
   "metadata": {},
   "source": [
    "**Well Done!** Let's move to the [next notebook](1-07_etl.ipynb). "
   ]
  },
  {
   "cell_type": "markdown",
   "id": "89ffb0bd-9cbf-4f75-affd-0f614e4074e3",
   "metadata": {},
   "source": [
    "<img src=\"images/nvidia_header.png\" style=\"margin-left: -30px; width: 300px; float: left;\">"
   ]
  }
 ],
 "metadata": {
  "kernelspec": {
   "display_name": "Python 3 (ipykernel)",
   "language": "python",
   "name": "python3"
  },
  "language_info": {
   "codemirror_mode": {
    "name": "ipython",
    "version": 3
   },
   "file_extension": ".py",
   "mimetype": "text/x-python",
   "name": "python",
   "nbconvert_exporter": "python",
   "pygments_lexer": "ipython3",
   "version": "3.10.15"
  }
 },
 "nbformat": 4,
 "nbformat_minor": 5
}
